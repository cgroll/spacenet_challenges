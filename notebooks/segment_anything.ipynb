{
 "cells": [
  {
   "cell_type": "code",
   "execution_count": null,
   "id": "6e5889c3-715b-4119-91c0-fab11cb21314",
   "metadata": {},
   "outputs": [],
   "source": [
    "import pandas as pd\n",
    "import matplotlib.pyplot as plt\n",
    "from matplotlib.colors import ListedColormap\n",
    "import seaborn as sns\n",
    "from torchvision import transforms\n",
    "import numpy as np\n",
    "import torch\n",
    "from skimage import measure\n",
    "import scipy"
   ]
  },
  {
   "cell_type": "code",
   "execution_count": null,
   "id": "801aae41-2568-4736-b029-c6e1426cd24b",
   "metadata": {},
   "outputs": [],
   "source": [
    "from src.path import ProjPaths\n",
    "from src.data.band3_binary_mask_data import Band3BinaryMaskDataset, RandomCropImgAndLabels, ToTensorImgAndLabels\n",
    "from src.models.unet_ptl import UNet\n",
    "from src.metrics import sample_logits_and_labels, logits_to_prediction, classification_cases, prediction_metrics, compute_true_false_classifications_for_sample_and_model\n",
    "from src.visualization.visualize import show_image_and_true_false_classifications"
   ]
  },
  {
   "cell_type": "code",
   "execution_count": null,
   "id": "f610d1fa-a965-4d55-91e5-ef33dc3cff9d",
   "metadata": {
    "tags": []
   },
   "outputs": [],
   "source": [
    "test_path = ProjPaths.interim_sn1_data_path / \"test\"\n",
    "test_dataset = Band3BinaryMaskDataset(test_path, transform=transforms.Compose([\n",
    "                                           RandomCropImgAndLabels(384),\n",
    "                                           ToTensorImgAndLabels()\n",
    "                                       ]))"
   ]
  },
  {
   "cell_type": "markdown",
   "id": "da0c5faf-f154-421f-a73b-41c9a2dec39f",
   "metadata": {},
   "source": [
    "## Evaluate model for individual samples"
   ]
  },
  {
   "cell_type": "markdown",
   "id": "d0642d18-7d2c-4c26-a222-6c51b3aa9460",
   "metadata": {},
   "source": [
    "Here we will use our UNet Pytorch Lightning model."
   ]
  },
  {
   "cell_type": "code",
   "execution_count": null,
   "id": "5f014413-2ab0-470f-91b3-1ca5afae44dd",
   "metadata": {
    "tags": []
   },
   "outputs": [],
   "source": [
    "chkpt_path = ProjPaths.model_path / 'unet' / 'unet_ptl_v5' / 'checkpoints' / 'best_model-unet-epoch=15-val_loss=0.09.ckpt'\n",
    "model = UNet.load_from_checkpoint(chkpt_path)\n",
    "\n",
    "model.eval()\n",
    "\n",
    "DEVICE = torch.device(\"cuda\" if torch.cuda.is_available() else \"cpu\")\n",
    "DEVICE = 'cpu'\n",
    "model = model.to(DEVICE)"
   ]
  },
  {
   "cell_type": "code",
   "execution_count": null,
   "id": "eab722df-9c92-4832-b4ca-ebfddf3723e5",
   "metadata": {},
   "outputs": [],
   "source": [
    "def compute_true_false_classifications(this_sample_id):\n",
    "    \n",
    "    sample = test_dataset[this_sample_id]\n",
    "    classes = compute_true_false_classifications_for_sample_and_model(sample, model, DEVICE)\n",
    "    classes_masked = np.ma.masked_where(classes == 0, classes)\n",
    "    \n",
    "    return sample, classes_masked"
   ]
  },
  {
   "cell_type": "code",
   "execution_count": null,
   "id": "2d51cf21-1dd1-44e4-90e1-70279b2c7f3a",
   "metadata": {
    "tags": []
   },
   "outputs": [],
   "source": [
    "this_sample_id = 132\n",
    "this_sample_id = 866\n",
    "this_sample_id = 512\n",
    "# this_sample_id = 634\n",
    "# this_sample_id = 985\n",
    "\n",
    "sample, classes_masked = compute_true_false_classifications(this_sample_id)"
   ]
  },
  {
   "cell_type": "markdown",
   "id": "c93693c2-26ba-430d-bda0-da7a31afbe92",
   "metadata": {
    "tags": []
   },
   "source": [
    "## Find clusters"
   ]
  },
  {
   "cell_type": "markdown",
   "id": "2c34dce5-5961-47a5-baf2-7bd9eeabe23d",
   "metadata": {},
   "source": [
    "Show original model predictions"
   ]
  },
  {
   "cell_type": "code",
   "execution_count": null,
   "id": "547bd5d7-42b8-459b-843e-2ebb9ea693ab",
   "metadata": {
    "tags": []
   },
   "outputs": [],
   "source": [
    "pred = ((classes_masked.data == 1) | (classes_masked.data == 3))*1 # get original prediction from true_pos and false_pos"
   ]
  },
  {
   "cell_type": "code",
   "execution_count": null,
   "id": "bf593d3d-bee6-40df-b941-34c905c7666c",
   "metadata": {
    "tags": []
   },
   "outputs": [],
   "source": [
    "labels = sample['labels']\n",
    "labels = labels.cpu().detach().numpy()[0, :, :]\n",
    "\n",
    "true_pos, true_neg, false_pos, false_neg = classification_cases(labels, pred)\n",
    "pred_metrics = prediction_metrics(true_pos, true_neg, false_pos, false_neg)\n",
    " "
   ]
  },
  {
   "cell_type": "code",
   "execution_count": null,
   "id": "0ac1968d-49d1-4b2d-86c2-efeb15294181",
   "metadata": {
    "tags": []
   },
   "outputs": [],
   "source": [
    "show_image_and_true_false_classifications(sample, classes_masked)"
   ]
  },
  {
   "cell_type": "code",
   "execution_count": null,
   "id": "50e62d9b-be4e-4352-a462-51b237c4fd83",
   "metadata": {
    "tags": []
   },
   "outputs": [],
   "source": [
    " fig = plt.figure(figsize=(15,30))\n",
    "\n",
    "plt.subplot(1,2,1)\n",
    "plt.imshow(sample[\"image\"].numpy().transpose(1, 2, 0))\n",
    "plt.title('Input image')\n",
    "\n",
    "plt.subplot(1,2,2)\n",
    "plt.imshow(pred)\n",
    "plt.title('Model predictions')\n",
    "plt.show()"
   ]
  },
  {
   "cell_type": "markdown",
   "id": "89f61f48-2b17-4272-95e4-3919376c4007",
   "metadata": {},
   "source": [
    "Get individual clusters"
   ]
  },
  {
   "cell_type": "code",
   "execution_count": null,
   "id": "4ebc8c14-0696-4e6f-8741-3f6b4493a3f3",
   "metadata": {
    "tags": []
   },
   "outputs": [],
   "source": [
    "clusters_with_id = measure.label(pred)"
   ]
  },
  {
   "cell_type": "code",
   "execution_count": null,
   "id": "40acf480-00eb-4efd-b140-70bf981530a6",
   "metadata": {
    "tags": []
   },
   "outputs": [],
   "source": [
    "plt.imshow(clusters_with_id)\n",
    "plt.title('Individual clusters')\n",
    "plt.show()"
   ]
  },
  {
   "cell_type": "markdown",
   "id": "e7c2c6d7-0c6c-4491-8321-3dcc9cd0bea4",
   "metadata": {},
   "source": [
    "Compute cluster areas"
   ]
  },
  {
   "cell_type": "code",
   "execution_count": null,
   "id": "5a5eedbb-77b1-498a-8a38-fbe5e6bf0f17",
   "metadata": {
    "tags": []
   },
   "outputs": [],
   "source": [
    "properties = measure.regionprops(clusters_with_id)\n",
    "prop_areas = [prop.area for prop in properties]\n",
    "cluster_areas = pd.DataFrame(prop_areas, columns=['area'], index=range(1, np.max(clusters_with_id)+1))\n",
    "cluster_areas = cluster_areas.sort_values('area')\n",
    "cluster_areas.tail(5)"
   ]
  },
  {
   "cell_type": "markdown",
   "id": "a0b18363-3069-46ee-932a-2bae2302bef6",
   "metadata": {},
   "source": [
    "## Inspect clusters"
   ]
  },
  {
   "cell_type": "code",
   "execution_count": null,
   "id": "5c36dc64-b018-4259-9a93-8097f3518b0f",
   "metadata": {
    "tags": []
   },
   "outputs": [],
   "source": [
    "def show_cluster(this_cluster, sample):\n",
    "    \n",
    "    this_cluster_masked = np.ma.masked_where(this_cluster == 0, this_cluster)\n",
    "\n",
    "    fig = plt.figure(figsize=(10,20))\n",
    "\n",
    "    plt.subplot(1,2,1)\n",
    "    plt.imshow(sample[\"image\"].numpy().transpose(1, 2, 0))\n",
    "    plt.imshow(this_cluster_masked, alpha=0.8, cmap='Oranges', vmin=0, vmax=1)\n",
    "    plt.title('Input image with cluster')\n",
    "\n",
    "    plt.subplot(1,2,2)\n",
    "    plt.imshow(this_cluster)\n",
    "    plt.title('Cluster')\n",
    "    plt.show()"
   ]
  },
  {
   "cell_type": "code",
   "execution_count": null,
   "id": "b0397f24-e28b-48f9-a7a4-75265b5e8ec6",
   "metadata": {
    "tags": []
   },
   "outputs": [],
   "source": [
    "biggest_cluster_id = cluster_areas.sort_values('area').index[-1]\n",
    "biggest_cluster = (clusters_with_id == biggest_cluster_id)*1\n",
    "show_cluster(biggest_cluster, sample)"
   ]
  },
  {
   "cell_type": "code",
   "execution_count": null,
   "id": "edf82a9d-1ec1-432f-958e-85fbba8e1a80",
   "metadata": {
    "tags": []
   },
   "outputs": [],
   "source": [
    "second_biggest_cluster_id = cluster_areas.index[-2]\n",
    "second_biggest_cluster = (clusters_with_id == second_biggest_cluster_id)*1\n",
    "show_cluster(second_biggest_cluster, sample)"
   ]
  },
  {
   "cell_type": "code",
   "execution_count": null,
   "id": "3ec94d9b-1993-459a-961e-fa20f3febbf8",
   "metadata": {
    "tags": []
   },
   "outputs": [],
   "source": [
    "xval, yval = scipy.ndimage.center_of_mass(biggest_cluster)\n",
    "xval = int(np.round(xval))\n",
    "yval = int(np.round(yval))\n",
    "xval, yval"
   ]
  },
  {
   "cell_type": "markdown",
   "id": "399b2565-6f0a-47ce-ab2c-9b305710f62c",
   "metadata": {},
   "source": [
    "Double check:"
   ]
  },
  {
   "cell_type": "code",
   "execution_count": null,
   "id": "155f3056-9591-400e-afea-e7e51eeacb92",
   "metadata": {
    "tags": []
   },
   "outputs": [],
   "source": [
    "biggest_cluster[xval, yval]"
   ]
  },
  {
   "cell_type": "markdown",
   "id": "c28f5f6d-705e-46c6-968d-889fce0be9d2",
   "metadata": {},
   "source": [
    "Biggest cluster indices"
   ]
  },
  {
   "cell_type": "code",
   "execution_count": null,
   "id": "9576e470-302f-4198-aff8-4c70c228a309",
   "metadata": {
    "tags": []
   },
   "outputs": [],
   "source": [
    "cluster_x_vals, cluster_y_vals = biggest_cluster.nonzero()"
   ]
  },
  {
   "cell_type": "code",
   "execution_count": null,
   "id": "5fcfb121-908f-46e7-b21c-dad8eb80dcb7",
   "metadata": {
    "tags": []
   },
   "outputs": [],
   "source": [
    "len(cluster_x_vals)"
   ]
  },
  {
   "cell_type": "markdown",
   "id": "81a395ec-79ca-4e15-b502-5268038bf080",
   "metadata": {
    "tags": []
   },
   "source": [
    "## Segment everything model"
   ]
  },
  {
   "cell_type": "code",
   "execution_count": null,
   "id": "e7ea9f48-3ad2-42ce-8263-19581bbf0444",
   "metadata": {
    "tags": []
   },
   "outputs": [],
   "source": [
    "from segment_anything import SamPredictor, sam_model_registry, SamAutomaticMaskGenerator"
   ]
  },
  {
   "cell_type": "code",
   "execution_count": null,
   "id": "0b8bba11-31ed-44be-aa34-c2bf5e0daf3d",
   "metadata": {
    "tags": []
   },
   "outputs": [],
   "source": [
    "# from https://github.com/facebookresearch/segment-anything/blob/main/notebooks/automatic_mask_generator_example.ipynb\n",
    "def show_anns(anns):\n",
    "    if len(anns) == 0:\n",
    "        return\n",
    "    sorted_anns = sorted(anns, key=(lambda x: x['area']), reverse=True)\n",
    "    ax = plt.gca()\n",
    "    ax.set_autoscale_on(False)\n",
    "    polygons = []\n",
    "    color = []\n",
    "    for ann in sorted_anns:\n",
    "        m = ann['segmentation']\n",
    "        img = np.ones((m.shape[0], m.shape[1], 3))\n",
    "        color_mask = np.random.random((1, 3)).tolist()[0]\n",
    "        for i in range(3):\n",
    "            img[:,:,i] = color_mask[i]\n",
    "        ax.imshow(np.dstack((img, m*0.35)))\n",
    "        \n",
    "# from :\n",
    "def show_points(coords, labels, ax, marker_size=375):\n",
    "    pos_points = coords[labels==1]\n",
    "    neg_points = coords[labels==0]\n",
    "    ax.scatter(pos_points[:, 0], pos_points[:, 1], color='green', marker='*', s=marker_size, edgecolor='white', linewidth=1.25)\n",
    "    ax.scatter(neg_points[:, 0], neg_points[:, 1], color='red', marker='*', s=marker_size, edgecolor='white', linewidth=1.25)\n",
    "\n",
    "def show_mask(mask, ax, random_color=False):\n",
    "    if random_color:\n",
    "        color = np.concatenate([np.random.random(3), np.array([0.6])], axis=0)\n",
    "    else:\n",
    "        color = np.array([30/255, 144/255, 255/255, 0.6])\n",
    "    h, w = mask.shape[-2:]\n",
    "    mask_image = mask.reshape(h, w, 1) * color.reshape(1, 1, -1)\n",
    "    ax.imshow(mask_image)"
   ]
  },
  {
   "cell_type": "markdown",
   "id": "8acfc092-6e45-4732-abd7-de399965c011",
   "metadata": {},
   "source": [
    "Define model to be used and set it up:"
   ]
  },
  {
   "cell_type": "code",
   "execution_count": null,
   "id": "53ab6fa2-39bd-4fb5-81b9-ff5a61c88be2",
   "metadata": {
    "tags": []
   },
   "outputs": [],
   "source": [
    "sam_checkpoint = \"sam_vit_h_4b8939.pth\"\n",
    "checkpoint_path = ProjPaths.model_path / 'sam' / sam_checkpoint\n",
    "model_type = \"vit_h\"\n",
    "\n",
    "device = \"cpu\"\n",
    "sam = sam_model_registry[model_type](checkpoint=checkpoint_path)\n",
    "sam.to(device=device)\n",
    "predictor = SamPredictor(sam)"
   ]
  },
  {
   "cell_type": "markdown",
   "id": "60a96ddf-3263-41be-9254-2f306f1f8c5a",
   "metadata": {},
   "source": [
    "Get image embedding"
   ]
  },
  {
   "cell_type": "markdown",
   "id": "15f25778-1c71-433d-a229-0d0d937239a0",
   "metadata": {},
   "source": [
    "## Get segmentation for full image"
   ]
  },
  {
   "cell_type": "code",
   "execution_count": null,
   "id": "55aa7af7-7950-4b85-bf63-00af5854777f",
   "metadata": {
    "tags": []
   },
   "outputs": [],
   "source": [
    "def sample_to_sam_format(sample):\n",
    "    img_vals = sample['image'].cpu().detach().numpy() # to numpy\n",
    "    img_vals = np.moveaxis(img_vals, 0, -1) # change dimensions to HWC\n",
    "    img_vals_255 = np.round(img_vals*255, 0) # colors to 0-255 range\n",
    "    img_vals_255_uint =  img_vals_255.astype(np.uint8) # int, not float\n",
    "    \n",
    "    return img_vals_255_uint"
   ]
  },
  {
   "cell_type": "code",
   "execution_count": null,
   "id": "c4a504be-33a5-41bb-98ce-7d3bdee193cc",
   "metadata": {
    "tags": []
   },
   "outputs": [],
   "source": [
    "sam_image = sample_to_sam_format(sample)"
   ]
  },
  {
   "cell_type": "code",
   "execution_count": null,
   "id": "5510a1db-0064-4bfd-879b-e368c152906c",
   "metadata": {},
   "outputs": [],
   "source": [
    "predictor.set_image(sam_image)"
   ]
  },
  {
   "cell_type": "code",
   "execution_count": null,
   "id": "0aaf700a-e72e-4654-8dcc-43b9d84ed595",
   "metadata": {
    "tags": []
   },
   "outputs": [],
   "source": [
    "mask_generator = SamAutomaticMaskGenerator(sam)"
   ]
  },
  {
   "cell_type": "code",
   "execution_count": null,
   "id": "12639d83-34a5-4c5e-9353-596ca07c9c3c",
   "metadata": {
    "tags": []
   },
   "outputs": [],
   "source": [
    "masks = mask_generator.generate(sam_image)"
   ]
  },
  {
   "cell_type": "code",
   "execution_count": null,
   "id": "ebafaf2f-ac38-4f95-bc7a-b65987becfaa",
   "metadata": {
    "tags": []
   },
   "outputs": [],
   "source": [
    "# background_image = np.zeros(sam_image.shape)\n",
    "\n",
    "# plt.figure(figsize=(15,15))\n",
    "# plt.imshow(background_image)\n",
    "# #plt.imshow(sam_image)\n",
    "# show_anns(masks)\n",
    "# plt.axis('off')\n",
    "# plt.show() "
   ]
  },
  {
   "cell_type": "code",
   "execution_count": null,
   "id": "e1c75367-72c0-4728-8e73-228493484fd3",
   "metadata": {
    "tags": []
   },
   "outputs": [],
   "source": [
    "all_mask_classes = np.zeros(clusters_with_id.shape)\n",
    "for ii in range(0, len(masks)):\n",
    "    \n",
    "    this_mask = masks[ii]['segmentation']\n",
    "    all_mask_classes[this_mask] = ii+1\n",
    "# Note: 0 values correspond to non-existing SAM cluster"
   ]
  },
  {
   "cell_type": "code",
   "execution_count": null,
   "id": "55180c21-070c-40a3-978a-0d4e95bf5c5f",
   "metadata": {
    "tags": []
   },
   "outputs": [],
   "source": [
    "fig = plt.figure(figsize=(10,20))\n",
    "\n",
    "plt.subplot(1,2,1)\n",
    "plt.imshow(sam_image)\n",
    "plt.title('Input image')\n",
    "\n",
    "all_mask_classes_masked = np.ma.masked_where(all_mask_classes == 0, all_mask_classes)\n",
    "\n",
    "plt.subplot(1,2,2)\n",
    "plt.imshow(sam_image)\n",
    "plt.imshow(all_mask_classes_masked, alpha=0.8)\n",
    "plt.title('SAM clusters')\n",
    "plt.show()"
   ]
  },
  {
   "cell_type": "code",
   "execution_count": null,
   "id": "84d5f1b6-8e43-4c8a-9cb7-7e5efc8b2bc9",
   "metadata": {
    "tags": []
   },
   "outputs": [],
   "source": [
    "fig = plt.figure(figsize=(10,20))\n",
    "\n",
    "plt.subplot(1,2,1)\n",
    "plt.imshow(clusters_with_id)\n",
    "plt.title('Model clusters')\n",
    "\n",
    "plt.subplot(1,2,2)\n",
    "plt.imshow(all_mask_classes_masked)\n",
    "plt.title('SAM clusters')\n",
    "plt.show()"
   ]
  },
  {
   "cell_type": "markdown",
   "id": "de1936f3-fd94-4613-8a58-0e507cd4b50e",
   "metadata": {},
   "source": [
    "Pick one cluster and intersect with SAM clusters"
   ]
  },
  {
   "cell_type": "code",
   "execution_count": null,
   "id": "07e18d47-9f32-4b90-8b51-c16f27438df4",
   "metadata": {
    "tags": []
   },
   "outputs": [],
   "source": [
    "intersection = biggest_cluster * all_mask_classes"
   ]
  },
  {
   "cell_type": "code",
   "execution_count": null,
   "id": "a8108da0-fa8a-49e7-ad16-fa9dfe9d1ac7",
   "metadata": {
    "tags": []
   },
   "outputs": [],
   "source": [
    "intersection.shape"
   ]
  },
  {
   "cell_type": "code",
   "execution_count": null,
   "id": "7faa64ee-1550-4a11-a12f-d0814af5a4d4",
   "metadata": {
    "tags": []
   },
   "outputs": [],
   "source": [
    "cluster_size = np.sum(biggest_cluster)"
   ]
  },
  {
   "cell_type": "code",
   "execution_count": null,
   "id": "23bc182a-5658-4fbe-9787-b2316de726b7",
   "metadata": {
    "tags": []
   },
   "outputs": [],
   "source": [
    "cluster_size"
   ]
  },
  {
   "cell_type": "code",
   "execution_count": null,
   "id": "6863e489-c6a0-4b00-ac87-4d9d9788f4e4",
   "metadata": {
    "tags": []
   },
   "outputs": [],
   "source": [
    "intersect_cluster_ids = np.unique(intersection)\n",
    "intersect_cluster_ids = [ii for ii in intersect_cluster_ids if ii > 0]\n",
    "intersect_cluster_ids"
   ]
  },
  {
   "cell_type": "code",
   "execution_count": null,
   "id": "0a953b84-eb03-46d0-8227-5521456e1cf9",
   "metadata": {
    "tags": []
   },
   "outputs": [],
   "source": [
    "sam_cluster_areas = []\n",
    "intersection_areas = []\n",
    "\n",
    "all_intersect_clusters = np.zeros(clusters_with_id.shape)\n",
    "for ii in range(0, len(intersect_cluster_ids)):\n",
    "    this_id = intersect_cluster_ids[ii]\n",
    "\n",
    "    this_mask = all_mask_classes == this_id\n",
    "    all_intersect_clusters[this_mask] = ii+1\n",
    "\n",
    "    this_sam_cluster_area = np.sum(this_mask)\n",
    "    sam_cluster_areas.append(this_sam_cluster_area)\n",
    "\n",
    "    intersection_mask = intersection == this_id\n",
    "    this_intersection_area = np.sum(intersection_mask)\n",
    "    intersection_areas.append(this_intersection_area)"
   ]
  },
  {
   "cell_type": "code",
   "execution_count": null,
   "id": "eb56527e-7e3f-442b-8521-13345e4598fc",
   "metadata": {
    "tags": []
   },
   "outputs": [],
   "source": [
    "intersection_metrics = pd.DataFrame({'cluster_id': intersect_cluster_ids, 'cluster_area': sam_cluster_areas, 'intersection_area': intersection_areas})\n",
    "intersection_metrics['target_size'] = cluster_size\n",
    "intersection_metrics['overlap_ratio'] = intersection_metrics['intersection_area'] / intersection_metrics['cluster_area']\n",
    "intersection_metrics"
   ]
  },
  {
   "cell_type": "code",
   "execution_count": null,
   "id": "dd093112-c8b4-4e6f-8a10-4a3da5ba6edf",
   "metadata": {
    "tags": []
   },
   "outputs": [],
   "source": [
    "intersection_metrics['intersection_area'].sum()"
   ]
  },
  {
   "cell_type": "code",
   "execution_count": null,
   "id": "ebd100cd-508c-4ed5-a7cf-1e0bec0a692d",
   "metadata": {
    "tags": []
   },
   "outputs": [],
   "source": [
    "fig = plt.figure(figsize=(20,30))\n",
    "\n",
    "plt.subplot(1,3,1)\n",
    "plt.imshow(biggest_cluster * all_mask_classes)\n",
    "plt.title('Intersection with SAM clusters')\n",
    "\n",
    "biggest_cluster_masked = np.ma.masked_where(biggest_cluster == 0, biggest_cluster)\n",
    "\n",
    "plt.subplot(1,3,2)\n",
    "plt.imshow(all_intersect_clusters)\n",
    "plt.imshow(biggest_cluster_masked, alpha=0.9, cmap='Oranges', vmin=0, vmax=1)\n",
    "plt.title('Intersecting SAM clusters')\n",
    "\n",
    "image_masked = sam_image.copy()\n",
    "xx_inds = all_intersect_clusters == 0\n",
    "image_masked[xx_inds, 0] = 0\n",
    "image_masked[xx_inds, 1] = 0\n",
    "image_masked[xx_inds, 2] = 0\n",
    "\n",
    "plt.subplot(1,3,3)\n",
    "plt.imshow(image_masked)\n",
    "plt.imshow(biggest_cluster_masked, alpha=0.5, cmap='Oranges', vmin=0, vmax=1)\n",
    "plt.title('Intersecting SAM clusters')\n",
    "\n",
    "plt.show()"
   ]
  },
  {
   "cell_type": "markdown",
   "id": "665c9c3b-958b-4456-94c3-11ce757fbc9d",
   "metadata": {},
   "source": [
    "Idea:\n",
    "- keep SAM clusters that are covered by more than a certain percentage\n",
    "- additionally keep model clusters (or skip parts that have tiny overlap with some other large SAM cluster)\n",
    "- optional: keep SAM clusters that fully cover a model cluster, even if overlap is rather tiny"
   ]
  },
  {
   "cell_type": "code",
   "execution_count": null,
   "id": "a19c4071-673a-4a4b-ba5f-1a11c0e5a174",
   "metadata": {
    "tags": []
   },
   "outputs": [],
   "source": [
    "intersection_metrics"
   ]
  },
  {
   "cell_type": "code",
   "execution_count": null,
   "id": "d1c76af7-245a-4074-b65e-197ab3ebc63a",
   "metadata": {
    "tags": []
   },
   "outputs": [],
   "source": [
    "all_mask_classes"
   ]
  },
  {
   "cell_type": "code",
   "execution_count": null,
   "id": "cdd3052b-36a0-40e0-b392-9f4ec6c8e3ce",
   "metadata": {
    "tags": []
   },
   "outputs": [],
   "source": [
    "overlap_clusters = np.zeros(all_mask_classes.shape)\n",
    "veto_clusters = np.zeros(all_mask_classes.shape)\n",
    "\n",
    "overlap_threshold = 0.4\n",
    "veto_threshold = 0.05\n",
    "\n",
    "for idx, row in intersection_metrics.iterrows():\n",
    "    \n",
    "    this_cluster_id = row['cluster_id']\n",
    "    xx_inds = all_mask_classes == this_cluster_id\n",
    "    \n",
    "    if row['overlap_ratio'] > overlap_threshold:\n",
    "        \n",
    "        overlap_clusters[xx_inds] = this_cluster_id\n",
    "        \n",
    "    if row['overlap_ratio'] < veto_threshold:\n",
    "        \n",
    "        veto_clusters[xx_inds] = 1"
   ]
  },
  {
   "cell_type": "code",
   "execution_count": null,
   "id": "a4306f15-68f4-44d4-bb90-b2670427c165",
   "metadata": {
    "tags": []
   },
   "outputs": [],
   "source": [
    "np.unique(biggest_cluster)"
   ]
  },
  {
   "cell_type": "code",
   "execution_count": null,
   "id": "c70fd4e3-76c7-4673-94f9-eb6e1632ed5e",
   "metadata": {
    "tags": []
   },
   "outputs": [],
   "source": [
    "modified_cluster = biggest_cluster.copy()\n",
    "modified_cluster[veto_clusters == 1] = 0\n",
    "modified_cluster[overlap_clusters > 0] = 1\n",
    "\n",
    "modified_cluster_masked = np.ma.masked_where(modified_cluster == 0, modified_cluster)"
   ]
  },
  {
   "cell_type": "code",
   "execution_count": null,
   "id": "a44cd59e-e35a-4fe4-949a-d1e9753137bc",
   "metadata": {
    "tags": []
   },
   "outputs": [],
   "source": [
    "fig = plt.figure(figsize=(15,15))\n",
    "\n",
    "plt.subplot(2,2,1)\n",
    "plt.imshow(overlap_clusters)\n",
    "plt.title('Union of meaningfully overlapping clusters')\n",
    "\n",
    "plt.subplot(2,2,2)\n",
    "plt.imshow(veto_clusters)\n",
    "plt.title('Union of insignficantly overlapping clusters')\n",
    "\n",
    "plt.subplot(2,2,3)\n",
    "plt.imshow(modified_cluster_masked)\n",
    "plt.imshow(biggest_cluster_masked, alpha=0.3, cmap='Oranges', vmin=0, vmax=1)\n",
    "plt.title('Original vs modified model cluster')\n",
    "\n",
    "image_masked = sam_image.copy()\n",
    "xx_inds = modified_cluster == 0\n",
    "image_masked[xx_inds, 0] = 255\n",
    "image_masked[xx_inds, 1] = 255\n",
    "image_masked[xx_inds, 2] = 255\n",
    "\n",
    "plt.subplot(2,2,4)\n",
    "# plt.imshow(image_masked)\n",
    "# plt.title('Modified model cluster')\n",
    "\n",
    "plt.imshow(sam_image)\n",
    "plt.imshow(modified_cluster_masked, alpha=0.8, cmap='Oranges', vmin=0, vmax=1)\n",
    "plt.title('Modified model cluster')\n",
    "\n",
    "plt.show()"
   ]
  },
  {
   "cell_type": "code",
   "execution_count": null,
   "id": "6c56be38-d745-44e0-82a6-a256856b5465",
   "metadata": {
    "tags": []
   },
   "outputs": [],
   "source": [
    "show_cluster(biggest_cluster, sample)"
   ]
  },
  {
   "cell_type": "markdown",
   "id": "0590d54c-2253-4384-b829-45cf9c76c620",
   "metadata": {},
   "source": [
    "## Apply modification to clusters"
   ]
  },
  {
   "cell_type": "markdown",
   "id": "47d7d562-69eb-4a82-9749-8d0bfd2e76ca",
   "metadata": {},
   "source": [
    "Put everything into a function and use this to modify / polish all model predictions"
   ]
  },
  {
   "cell_type": "markdown",
   "id": "e5753496-cf5d-4c43-8565-a4282d11ddfa",
   "metadata": {},
   "source": [
    "Inputs:\n",
    "- calibration parameters: threshold values\n",
    "- single model cluster\n",
    "- sam clusters"
   ]
  },
  {
   "cell_type": "code",
   "execution_count": null,
   "id": "888528d9-b12f-4a4d-9862-bde78c8bb8c5",
   "metadata": {
    "tags": []
   },
   "outputs": [],
   "source": [
    "def modify_cluster(this_model_cluster, all_mask_classes, overlap_threshold=0.4, veto_threshold=0.05):\n",
    "    cluster_size = np.sum(this_model_cluster)\n",
    "\n",
    "    # compute intersections with SAM clusters\n",
    "    intersection = this_model_cluster * all_mask_classes\n",
    "\n",
    "    # find relevant SAM clusters\n",
    "    intersect_cluster_ids = np.unique(intersection)\n",
    "    intersect_cluster_ids = [ii for ii in intersect_cluster_ids if ii > 0]\n",
    "\n",
    "    # compute overlap metrics\n",
    "    sam_cluster_areas = []\n",
    "    intersection_areas = []\n",
    "\n",
    "    all_intersect_clusters = np.zeros(clusters_with_id.shape)\n",
    "    for ii in range(0, len(intersect_cluster_ids)):\n",
    "        this_id = intersect_cluster_ids[ii]\n",
    "\n",
    "        this_mask = all_mask_classes == this_id\n",
    "        all_intersect_clusters[this_mask] = ii+1\n",
    "\n",
    "        this_sam_cluster_area = np.sum(this_mask)\n",
    "        sam_cluster_areas.append(this_sam_cluster_area)\n",
    "\n",
    "        intersection_mask = intersection == this_id\n",
    "        this_intersection_area = np.sum(intersection_mask)\n",
    "        intersection_areas.append(this_intersection_area)\n",
    "\n",
    "    intersection_metrics = pd.DataFrame({'cluster_id': intersect_cluster_ids, 'cluster_area': sam_cluster_areas, 'intersection_area': intersection_areas})\n",
    "    intersection_metrics['target_size'] = cluster_size\n",
    "    intersection_metrics['overlap_ratio'] = intersection_metrics['intersection_area'] / intersection_metrics['cluster_area']\n",
    "\n",
    "    # compute modification areas\n",
    "    overlap_clusters = np.zeros(all_mask_classes.shape)\n",
    "    veto_clusters = np.zeros(all_mask_classes.shape)\n",
    "    full_overlap_clusters = np.zeros(all_mask_classes.shape)\n",
    "\n",
    "    for idx, row in intersection_metrics.iterrows():\n",
    "\n",
    "        this_cluster_id = row['cluster_id']\n",
    "        xx_inds = all_mask_classes == this_cluster_id\n",
    "\n",
    "        if row['overlap_ratio'] > overlap_threshold:\n",
    "\n",
    "            overlap_clusters[xx_inds] = this_cluster_id\n",
    "\n",
    "        if row['overlap_ratio'] < veto_threshold:\n",
    "\n",
    "            veto_clusters[xx_inds] = 1\n",
    "            \n",
    "        if row['target_size'] == row['intersection_area']:\n",
    "            \n",
    "            full_overlap_clusters[xx_inds] = 1\n",
    "            \n",
    "    modified_cluster = this_model_cluster.copy()\n",
    "    modified_cluster[veto_clusters == 1] = 0\n",
    "    modified_cluster[overlap_clusters > 0] = 1\n",
    "    # modified_cluster[full_overlap_clusters > 0] = 1 # optional; not really tested yet\n",
    "\n",
    "    return modified_cluster"
   ]
  },
  {
   "cell_type": "code",
   "execution_count": null,
   "id": "fa639e32-6a8e-4c12-a652-f6881f81c721",
   "metadata": {
    "tags": []
   },
   "outputs": [],
   "source": [
    "cluster_areas.tail(10)"
   ]
  },
  {
   "cell_type": "code",
   "execution_count": null,
   "id": "c10b0ec4-d9b8-4385-8efb-9f5594483300",
   "metadata": {
    "tags": []
   },
   "outputs": [],
   "source": [
    "this_cluster_id = cluster_areas.index[-2]\n",
    "this_model_cluster = (clusters_with_id == this_cluster_id)*1\n",
    "show_cluster(this_model_cluster, sample)"
   ]
  },
  {
   "cell_type": "code",
   "execution_count": null,
   "id": "31599bc9-d5fc-40ae-858d-612116df4468",
   "metadata": {
    "tags": []
   },
   "outputs": [],
   "source": [
    "this_modified_cluster = modify_cluster(this_model_cluster, all_mask_classes, overlap_threshold=0.4, veto_threshold=0.05)\n",
    "show_cluster(this_modified_cluster, sample)"
   ]
  },
  {
   "cell_type": "code",
   "execution_count": null,
   "id": "b3a4f632-4fa0-4484-b065-6ece31249d75",
   "metadata": {
    "tags": []
   },
   "outputs": [],
   "source": [
    "min_pixel_size = 50"
   ]
  },
  {
   "cell_type": "code",
   "execution_count": null,
   "id": "2f002a55-b948-4ecf-b4d3-c7a31cb66d3f",
   "metadata": {
    "tags": []
   },
   "outputs": [],
   "source": [
    "all_modified_clusters = np.zeros(clusters_with_id.shape)"
   ]
  },
  {
   "cell_type": "code",
   "execution_count": null,
   "id": "10e61db3-f435-49a2-a6c7-ef5faaafcf9c",
   "metadata": {
    "tags": []
   },
   "outputs": [],
   "source": [
    "plt.imshow(this_model_cluster)"
   ]
  },
  {
   "cell_type": "code",
   "execution_count": null,
   "id": "7f46a04f-ab39-477c-a72e-d0412aa9a1e2",
   "metadata": {
    "tags": []
   },
   "outputs": [],
   "source": [
    "plt.imshow(this_modified_cluster)"
   ]
  },
  {
   "cell_type": "code",
   "execution_count": null,
   "id": "29e4f175-caca-4b5e-88df-36b97f6aa1c2",
   "metadata": {
    "tags": []
   },
   "outputs": [],
   "source": [
    "for ii in range(0, cluster_areas.shape[0]):\n",
    "    \n",
    "    this_cluster_id = cluster_areas.index[ii]\n",
    "    this_area = cluster_areas.iloc[ii].squeeze()\n",
    "    \n",
    "    if this_area >= min_pixel_size:\n",
    "        this_model_cluster = (clusters_with_id == this_cluster_id)*1\n",
    "        this_modified_cluster = modify_cluster(this_model_cluster, all_mask_classes, overlap_threshold=0.4, veto_threshold=0.05)\n",
    "        \n",
    "        xx_inds = this_modified_cluster > 0\n",
    "        all_modified_clusters[xx_inds] = 1"
   ]
  },
  {
   "cell_type": "code",
   "execution_count": null,
   "id": "2f260bf4-74f1-49b0-b862-15277b8d85ea",
   "metadata": {
    "tags": []
   },
   "outputs": [],
   "source": [
    "fig = plt.figure(figsize=(15,30))\n",
    "\n",
    "plt.subplot(1,3,1)\n",
    "plt.imshow(sample[\"image\"].numpy().transpose(1, 2, 0))\n",
    "plt.title('Input image')\n",
    "\n",
    "plt.subplot(1,3,2)\n",
    "plt.imshow(pred)\n",
    "plt.title('Model predictions')\n",
    "\n",
    "plt.subplot(1,3,3)\n",
    "plt.imshow(all_modified_clusters)\n",
    "plt.title('Modified model predictions')\n",
    "\n",
    "plt.show()"
   ]
  },
  {
   "cell_type": "code",
   "execution_count": null,
   "id": "0e600b15-45e5-406c-b44a-8296e5030681",
   "metadata": {
    "tags": []
   },
   "outputs": [],
   "source": [
    "np.unique(pred)"
   ]
  },
  {
   "cell_type": "code",
   "execution_count": null,
   "id": "f635934e-24e2-4080-b38e-344483eb16fa",
   "metadata": {
    "tags": []
   },
   "outputs": [],
   "source": [
    "labels = sample['labels']\n",
    "labels = labels.cpu().detach().numpy()[0, :, :]"
   ]
  },
  {
   "cell_type": "code",
   "execution_count": null,
   "id": "f292aadc-b1c9-4a55-8b53-128693e0c591",
   "metadata": {
    "tags": []
   },
   "outputs": [],
   "source": [
    "true_pos, true_neg, false_pos, false_neg = classification_cases(labels, all_modified_clusters)\n",
    "pred_metrics_modified = prediction_metrics(true_pos, true_neg, false_pos, false_neg)\n",
    "    \n",
    "# Translate into true / false positives / negatives:\n",
    "classes = np.zeros(true_pos.shape)\n",
    "classes[true_neg] = 0\n",
    "classes[false_pos] = 1\n",
    "classes[false_neg] = 2\n",
    "classes[true_pos] = 3\n",
    "classes_masked_modified = np.ma.masked_where(classes == 0, classes)"
   ]
  },
  {
   "cell_type": "code",
   "execution_count": null,
   "id": "d8bb4449-516f-4a85-8c8f-8795ec156204",
   "metadata": {
    "tags": []
   },
   "outputs": [],
   "source": [
    "np.unique(classes)"
   ]
  },
  {
   "cell_type": "code",
   "execution_count": null,
   "id": "6c81cd39-39af-4b83-be7e-11e93992c8c9",
   "metadata": {
    "tags": []
   },
   "outputs": [],
   "source": [
    "show_image_and_true_false_classifications(sample, classes_masked_modified)"
   ]
  },
  {
   "cell_type": "code",
   "execution_count": null,
   "id": "1a6a129a-d621-4428-9dfb-44495f7169d2",
   "metadata": {
    "tags": []
   },
   "outputs": [],
   "source": [
    "show_image_and_true_false_classifications(sample, classes_masked)"
   ]
  },
  {
   "cell_type": "code",
   "execution_count": null,
   "id": "730c325a-cbdf-4668-8d3f-86d3792e07cf",
   "metadata": {
    "tags": []
   },
   "outputs": [],
   "source": [
    "pred_metrics"
   ]
  },
  {
   "cell_type": "code",
   "execution_count": null,
   "id": "0792802a-66dc-4a02-a6d0-130e404de83c",
   "metadata": {
    "tags": []
   },
   "outputs": [],
   "source": [
    "pred_metrics_modified"
   ]
  },
  {
   "cell_type": "markdown",
   "id": "216362d7-d738-4059-96d0-dd511aff9e15",
   "metadata": {},
   "source": [
    "## Predict for given points"
   ]
  },
  {
   "cell_type": "code",
   "execution_count": null,
   "id": "ebb94404-edd0-49f7-bbbf-1ac5d157fb1f",
   "metadata": {},
   "outputs": [],
   "source": []
  },
  {
   "cell_type": "markdown",
   "id": "50448f95-1b0e-41b3-af21-ace70eaad3d0",
   "metadata": {},
   "source": [
    "Predict segmentation at given point(s):"
   ]
  },
  {
   "cell_type": "code",
   "execution_count": null,
   "id": "a3e94d10-9e06-4969-9b53-08c41610c619",
   "metadata": {
    "tags": []
   },
   "outputs": [],
   "source": [
    "input_points = np.array([[yval, xval]])\n",
    "input_labels = np.array([1])"
   ]
  },
  {
   "cell_type": "code",
   "execution_count": null,
   "id": "e167bbbf-7f3b-4715-bc70-07d7a4fc7e6b",
   "metadata": {
    "tags": []
   },
   "outputs": [],
   "source": [
    "masks, scores, logits = predictor.predict(\n",
    "    point_coords=input_points,\n",
    "    point_labels=input_labels,\n",
    "    multimask_output=True,\n",
    ")"
   ]
  },
  {
   "cell_type": "code",
   "execution_count": null,
   "id": "625d48f1-87ac-40d9-a386-f66a0d8e6770",
   "metadata": {},
   "outputs": [],
   "source": []
  },
  {
   "cell_type": "code",
   "execution_count": null,
   "id": "d1cd03f0-c4c0-4393-b193-e132f280ed4f",
   "metadata": {
    "tags": []
   },
   "outputs": [],
   "source": []
  },
  {
   "cell_type": "code",
   "execution_count": null,
   "id": "2ae926ed-32d3-4227-bd1d-45c85579040e",
   "metadata": {
    "tags": []
   },
   "outputs": [],
   "source": [
    "for i, (mask, score) in enumerate(zip(masks, scores)):\n",
    "    plt.figure(figsize=(10,10))\n",
    "    plt.imshow(sam_image)\n",
    "    show_mask(mask, plt.gca())\n",
    "    show_points(input_points, input_labels, plt.gca())\n",
    "    plt.title(f\"Mask {i+1}, Score: {score:.3f}\", fontsize=18)\n",
    "    plt.axis('off')\n",
    "    plt.show()  \n",
    "  "
   ]
  },
  {
   "cell_type": "markdown",
   "id": "18eb22d3-8829-4eae-96aa-1cd936ed58a0",
   "metadata": {},
   "source": [
    "Alternatively, with multiple points:"
   ]
  },
  {
   "cell_type": "code",
   "execution_count": null,
   "id": "1dd173b7-98e0-446e-889b-0292db0de423",
   "metadata": {
    "tags": []
   },
   "outputs": [],
   "source": [
    "import random"
   ]
  },
  {
   "cell_type": "code",
   "execution_count": null,
   "id": "6861669d-51d0-4945-8fc8-7ed3f579294b",
   "metadata": {
    "tags": []
   },
   "outputs": [],
   "source": [
    "rand_inds = random.sample(range(0, len(cluster_x_vals)), 10)"
   ]
  },
  {
   "cell_type": "code",
   "execution_count": null,
   "id": "52463294-a0b6-45ce-aa3e-5c28bfda381b",
   "metadata": {
    "tags": []
   },
   "outputs": [],
   "source": [
    "x_vals = cluster_x_vals[rand_inds]\n",
    "y_vals = cluster_y_vals[rand_inds]"
   ]
  },
  {
   "cell_type": "code",
   "execution_count": null,
   "id": "7ac04192-2756-4a74-9e02-65550f515c23",
   "metadata": {
    "tags": []
   },
   "outputs": [],
   "source": [
    "input_points = np.array([[y_vals[ii], x_vals[ii]] for ii in range(0, len(x_vals))])\n",
    "input_labels = np.array([1 for ii in range(0, len(x_vals))])"
   ]
  },
  {
   "cell_type": "code",
   "execution_count": null,
   "id": "8a2e09ec-f128-415e-ae52-57756a5a0789",
   "metadata": {},
   "outputs": [],
   "source": [
    "masks, scores, logits = predictor.predict(\n",
    "    point_coords=input_points,\n",
    "    point_labels=input_labels,\n",
    "    multimask_output=True,\n",
    ")"
   ]
  },
  {
   "cell_type": "code",
   "execution_count": null,
   "id": "2c22583c-28f9-45db-be0a-6b4c2d31052a",
   "metadata": {
    "tags": []
   },
   "outputs": [],
   "source": [
    "masks.shape"
   ]
  },
  {
   "cell_type": "code",
   "execution_count": null,
   "id": "89273319-cd7b-4728-a617-762452ccea41",
   "metadata": {
    "tags": []
   },
   "outputs": [],
   "source": [
    "for i, (mask, score) in enumerate(zip(masks, scores)):\n",
    "    plt.figure(figsize=(10,10))\n",
    "    plt.imshow(img_vals_255_uint)\n",
    "    show_mask(mask, plt.gca())\n",
    "    show_points(input_point, input_label, plt.gca())\n",
    "    plt.title(f\"Mask {i+1}, Score: {score:.3f}\", fontsize=18)\n",
    "    plt.axis('off')\n",
    "    plt.show()  \n",
    "  "
   ]
  }
 ],
 "metadata": {
  "kernelspec": {
   "display_name": "Python 3 (ipykernel)",
   "language": "python",
   "name": "python3"
  },
  "language_info": {
   "codemirror_mode": {
    "name": "ipython",
    "version": 3
   },
   "file_extension": ".py",
   "mimetype": "text/x-python",
   "name": "python",
   "nbconvert_exporter": "python",
   "pygments_lexer": "ipython3",
   "version": "3.10.11"
  }
 },
 "nbformat": 4,
 "nbformat_minor": 5
}
